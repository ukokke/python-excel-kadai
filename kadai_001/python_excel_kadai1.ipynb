{
  "nbformat": 4,
  "nbformat_minor": 0,
  "metadata": {
    "colab": {
      "provenance": []
    },
    "kernelspec": {
      "name": "python3",
      "display_name": "Python 3"
    },
    "language_info": {
      "name": "python"
    }
  },
  "cells": [
    {
      "cell_type": "code",
      "execution_count": 13,
      "metadata": {
        "id": "mFJ6lxiIDSCV"
      },
      "outputs": [],
      "source": [
        "import openpyxl\n",
        "from datetime import datetime\n",
        "\n",
        "workbook=openpyxl.Workbook()\n",
        "#workbook.save('請求書_20241104.xlsx')\n",
        "ws=workbook.active\n",
        "\n",
        "user=[\n",
        "    {'company':'株式会社ABC','addrres':'〒101-0022 東京都千代田区神田練塀町300','telfax':'TEL:03-1234-5678 FAX:03-1234-5678','name':'鈴木一郎'},\n",
        "]\n",
        "for i, u in enumerate(user, start=4):\n",
        "  ws.cell(row=i,column=2,value=u['company'])\n",
        "  ws.cell(row=i+1,column=2,value=u['addrres'])\n",
        "  ws.cell(row=i+2,column=2,value=u['telfax'])\n",
        "  ws.cell(row=i+3,column=2,value=f\"担当者名:{u['name']} 様\")\n",
        "ws['B2']='請求書'\n",
        "#ws['B4']='株式会社ABC'\n",
        "#ws['B5']='〒101-0022 東京都千代田区神田練塀町300'\n",
        "#ws['B6']='TEL:03-1234-5678 FAX:03-1234-5678'\n",
        "#ws['B7']='担当者名:鈴木一郎 様'\n",
        "ws['F4']='№'\n",
        "ws['F5']='日付'\n",
        "ws['G4']='0001'\n",
        "\n",
        "today=datetime.today()\n",
        "ws['G5']=today.strftime('%Y/%m/%d')\n",
        "\n",
        "ws['B10']='商品名'\n",
        "ws['C10']='数量'\n",
        "ws['D10']='単価'\n",
        "ws['E10']='金額'\n",
        "#sheet=workbook.active\n",
        "product=[\n",
        "    {'name':'商品A','count':2,'tanka':10000},\n",
        "    {'name':'商品B','count':1,'tanka':15000}\n",
        "]\n",
        "\n",
        "for j ,p in enumerate(product, start=11):\n",
        "  ws.cell(row=j,column=2,value=p['name'])\n",
        "  ws.cell(row=j,column=3,value=p['count'])\n",
        "  ws.cell(row=j,column=4,value=p['tanka'])\n",
        "  ws.cell(row=j,column=5,value=p['count']*p['tanka'])\n",
        "\n",
        "total=sum(p['count']*p['tanka']for p in product)\n",
        "tax=total*0.1\n",
        "bigtotal=total+tax\n",
        "\n",
        "ws['B15']='合計'\n",
        "ws['E13']=total\n",
        "ws['E15']=total\n",
        "ws['B16']='消費税'\n",
        "ws['E16']=tax\n",
        "ws['B17']='税込合計'\n",
        "ws['E17']=bigtotal\n",
        "\n",
        "filename=f'請求書_{today.strftime(\"%Y%m%d\")}.xlsx'\n",
        "workbook.save(filename)"
      ]
    },
    {
      "cell_type": "markdown",
      "source": [],
      "metadata": {
        "id": "SspX0JQPbLOT"
      }
    },
    {
      "cell_type": "code",
      "source": [],
      "metadata": {
        "id": "fDOsWrmuLm7C"
      },
      "execution_count": null,
      "outputs": []
    }
  ]
}