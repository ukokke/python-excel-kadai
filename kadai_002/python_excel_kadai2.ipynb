{
  "nbformat": 4,
  "nbformat_minor": 0,
  "metadata": {
    "colab": {
      "provenance": []
    },
    "kernelspec": {
      "name": "python3",
      "display_name": "Python 3"
    },
    "language_info": {
      "name": "python"
    }
  },
  "cells": [
    {
      "cell_type": "code",
      "execution_count": 20,
      "metadata": {
        "colab": {
          "base_uri": "https://localhost:8080/"
        },
        "id": "ZcUySgnfKaeD",
        "outputId": "8eaf135f-bd53-4b5a-961d-6970bce6d9c6"
      },
      "outputs": [
        {
          "output_type": "stream",
          "name": "stdout",
          "text": [
            "           日付 社員名   売上    部門   平均売上 業績ランク\n",
            "0  2023-05-17  山田  100  メーカー  200.0     C\n",
            "1  2023-05-18  佐藤  200   代理店  200.0     B\n",
            "2  2023-05-19  鈴木  150  メーカー  200.0     C\n",
            "3  2023-05-20  田中  300    商社  200.0     A\n",
            "4  2023-05-21  高橋  250   代理店  200.0     A\n"
          ]
        }
      ],
      "source": [
        "import pandas as pd\n",
        "df=pd.DataFrame(data={\n",
        "    '日付':\t['2023-05-17','2023-05-18','2023-05-19','2023-05-20','2023-05-21'],\n",
        "    '社員名':['山田','佐藤','鈴木','田中','高橋'],\n",
        "    '売上':[100,200,150,300,250],\n",
        "    '部門':['メーカー','代理店','メーカー','商社','代理店']\n",
        "})\n",
        "\n",
        "m = df['売上'].mean()\n",
        "\n",
        "df['平均売上']=df['売上'].mean()\n",
        "#m=mean\n",
        "\n",
        "def performance(level):\n",
        "  if level>=m+50:\n",
        "    return 'A'\n",
        "  elif level>=m:\n",
        "    return 'B'\n",
        "  else:\n",
        "    return 'C'\n",
        "\n",
        "df['業績ランク']=df['売上'].apply(performance)\n",
        "print(df)\n",
        "df.to_excel('業績.xlsx',index=False)\n"
      ]
    },
    {
      "cell_type": "code",
      "source": [],
      "metadata": {
        "id": "dmLZb8AxK8df"
      },
      "execution_count": null,
      "outputs": []
    }
  ]
}