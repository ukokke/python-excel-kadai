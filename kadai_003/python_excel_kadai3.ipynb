{
  "nbformat": 4,
  "nbformat_minor": 0,
  "metadata": {
    "colab": {
      "provenance": []
    },
    "kernelspec": {
      "name": "python3",
      "display_name": "Python 3"
    },
    "language_info": {
      "name": "python"
    }
  },
  "cells": [
    {
      "cell_type": "code",
      "execution_count": 47,
      "metadata": {
        "id": "hZQ6vgiTf9EI"
      },
      "outputs": [],
      "source": [
        "import openpyxl\n",
        "import pandas as pd\n",
        "from openpyxl.styles import PatternFill\n",
        "df = pd.read_excel('2022_年間売上表.xlsx')\n",
        "#print(df)\n",
        "df2=pd.read_excel('2023_年間売上表.xlsx')\n",
        "df_combined=pd.concat([df,df2],ignore_index=True)\n",
        "#print(df_combined)\n",
        "grouped=df_combined.groupby(['商品','売上年']).agg({'金額（千円）':'sum'}).reset_index()\n",
        "#print(grouped)\n",
        "with pd.ExcelWriter('売上集計表.xlsx', engine='openpyxl') as writer:\n",
        "  grouped.to_excel(writer, sheet_name='売上集計表', index=False)\n",
        "  workbook=writer.book\n",
        "  sheet=workbook['売上集計表']\n",
        "#grouped.to_excel(writer,sheet_name='売上集計表',index=False)\n",
        "  heder_fill=PatternFill(patternType='solid',fgColor='F2F2F2')\n",
        "  for cell in sheet[1]:\n",
        "    cell.fill = header_fill"
      ]
    },
    {
      "cell_type": "code",
      "source": [],
      "metadata": {
        "id": "1rhbTn1KrJVS"
      },
      "execution_count": null,
      "outputs": []
    }
  ]
}